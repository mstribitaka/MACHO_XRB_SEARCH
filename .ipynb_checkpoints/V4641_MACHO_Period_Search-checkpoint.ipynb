{
 "metadata": {
  "name": ""
 },
 "nbformat": 3,
 "nbformat_minor": 0,
 "worksheets": [
  {
   "cells": [
    {
     "cell_type": "heading",
     "level": 2,
     "metadata": {},
     "source": [
      "Lomb-Scargle"
     ]
    },
    {
     "cell_type": "code",
     "collapsed": false,
     "input": [
      "#stuff we need\n",
      "#import glob\n",
      "import numpy as np\n",
      "import pandas as pd\n",
      "from astroML.time_series import lomb_scargle, lomb_scargle_bootstrap, multiterm_periodogram \n",
      "%matplotlib inline\n",
      "import matplotlib.pyplot as plt"
     ],
     "language": "python",
     "metadata": {},
     "outputs": [],
     "prompt_number": 2
    },
    {
     "cell_type": "code",
     "collapsed": false,
     "input": [
      "############################################################################################################################\n",
      "#input: file name for a macho data ascii file                                                                              #\n",
      "############################################################################################################################\n",
      "#action:read in macho data ascii file to panda data frame                                                                  #\n",
      "#based on information in the ascii file, compute the calibrated R and V magnitudes                                         #\n",
      "#the procedure is outlined in detail by Alcock et al 1999.                                                                 #\n",
      "#V = Vraw + a0 + (a1 + 0.022*Xtemplate)*(Vraw - Rraw) + 2.5*log10(ExpTime)                                                 #\n",
      "#R = Rraw + b0 + (b1 + 0.004*Xtemplate)*(Vraw - Rraw) + 2.5*log10(ExpTime)                                                 #\n",
      "#a0, b0, a1, b1 are zeropoint and color-correction coefficents. a0 and b0 depend on which amplifier on detector you're on  #\n",
      "#a1 and b1 are determined emperically in the above paper                                                                   #\n",
      "############################################################################################################################\n",
      "#output: pandas data frame, including observation date, calibrated rmags, rErr, calibrated bmags, berror\n",
      "def pdTable(target):\n",
      "\t#these are the column headers for the data\n",
      "\t#the headers in the txt file have a '!' at the start of the line, so recognizing them automatically is hard\n",
      "\tnames=['Date','Obsid','Pier','Exposure','Checklist','Airmass','rMag','rErr',\n",
      "\t\t'rDS','rTF','rCP','rX2','rMP','rCR','rA','rXpix','rYpix','rSky','rFWHM',\n",
      "\t\t'rTobs','r','bMag','bErr','bDS','bTF','bCP','bX2','bMP','bCR','bA','bXpix',\n",
      "\t\t'bYpix','bSky','bFWHM','bTobs','b']\n",
      "\t\n",
      "    #read in the data as a pandas table, store as variable 't'\n",
      "\tt=pd.read_table('160.27050.11',skiprows=10,header=None,sep=\"\\s+\",names=names,\n",
      "\t\tna_values=[-99,999],comment='#',error_bad_lines=False,index_col=False)\n",
      "\n",
      "\t#grab template observation ID's. This will tell you the obsID of the template observation\n",
      "    #we need the template observation so we can determine the template airmass to calibrate data\n",
      "\tbTobsID=t['bTobs'][0]\n",
      "\trTobsID=t['rTobs'][0]\n",
      "\n",
      "\t#grab the air mass for the template observation\n",
      "\tbTair=t[t['Obsid']==bTobsID]['Airmass'].values[0]\n",
      "\trTair=t[t['Obsid']==rTobsID]['Airmass'].values[0]\n",
      "\n",
      "\t#grab the amplifier number for the observation. Divide by two and take floor\n",
      "    #there are two amplifiers per ccd loral. a0 and b0 depend on which loral you are on \n",
      "    #These will be arrays\n",
      "\tbAmp=np.floor(t['bA']/2).values\n",
      "\trAmp=np.floor(t['rA']/2).values\n",
      "\n",
      "\t#definitions for constants used in magnitude calculation\n",
      "    #the keys are CCD numbers, the values are a0 or b0 for the CCD\n",
      "\taOneDict={0:-.2059, 1:-1.876, 2:-2.065, 3:-2.059}\n",
      "\tbOneDict={4:0.1784, 5:0.1785, 6: 0.1868, 7:0.1784}\n",
      "\n",
      "    #calculate a0 and b0 for every observation, store as numpy array. \n",
      "\taOne=np.asarray([aOneDict[i] if i > 0 else np.nan for i in rAmp ])\n",
      "\tbOne=np.asarray([bOneDict[i] if i > 0 else np.nan for i in bAmp ])\n",
      "\n",
      "    #calculate a1 and b1. these are scalar values\n",
      "\taZero= 18.410 - 0.279*rTair\n",
      "\tbZero= 18.087 - 0.222*bTair\n",
      "\n",
      "\t#calculate the calibrated V and R magnitudes for the object\n",
      "\tV=t['bMag'].values + aZero + (aOne + 0.022*rTair)*(t['bMag'] - t['rMag']) + 2.5 * np.log10(t['Exposure'])\n",
      "\tR=t['rMag'].values + bZero + (bOne + 0.004*bTair)*(t['bMag'] - t['rMag']) + 2.5 * np.log10(t['Exposure'])\n",
      "\n",
      "\t#return a pandas data frame and remove any rows that have NaNs \n",
      "\treturn pd.DataFrame({'Date':t['Date'].values, 'R':R.values, 'Rerr':t['rErr'], 'V':V.values, 'Verr':t['bErr'].values}).dropna(how='any')\n"
     ],
     "language": "python",
     "metadata": {},
     "outputs": [],
     "prompt_number": 3
    },
    {
     "cell_type": "code",
     "collapsed": false,
     "input": [
      "############################################################################################################################\n",
      "#input: pandas data frame including observation dates, calibrated V and R magnitudes and their instrumental errors         #\n",
      "############################################################################################################################\n",
      "#action: compute the lomb scargle periodogram of the time series photometry of input                                       #\n",
      "#create plot of periodogram and display                                                                                    #\n",
      "#largely stolen from Jake's code in astroML                                                                                #\n",
      "############################################################################################################################\n",
      "#output: returns pandas data frame, containing linear sample of 100000 pts between 0 and 10, and power spectra of values   #\n",
      "############################################################################################################################\n",
      "def powerSpectra(t):\n",
      "    #period is an np array of 100000 points linearly spaced between 0 and 10\n",
      "    #we will be looking for periods between 0 and 10 days. adjust if need be\n",
      "    period = np.linspace(.1, 10, 100000)\n",
      "    \n",
      "    #omega is the angular frequency of the period\n",
      "    omega = 2 * np.pi / period\n",
      "\t\n",
      "    #compute lobm-scargle ps\n",
      "    PS=lomb_scargle(t['Date'].values,t['R'].values,t['Rerr'].values, omega, generalized=True)\n",
      "    \n",
      "    PSwindow=lomb_scargle(t['Date'].values, np.ones_like(t['R'].values), 1 , omega, generalized=False, subtract_mean=False)\n",
      "    \n",
      "    D = lomb_scargle_bootstrap(t['Date'].values,t['R'].values,t['Rerr'].values, omega, generalized=True, N_bootstraps=1000, random_state=0)\n",
      "    sig1, sig5 = np.percentile(D, [99, 95])\n",
      "    #print str(sig5)+\" \"+str(sig1)\n",
      "    \n",
      "    #create quick plot of power spectra\n",
      "    fig=plt.figure(figsize=(16,8))\n",
      "    ax1=fig.add_subplot(211)\n",
      "    ax1.plot(period, PS, '-', c='black', lw=1, zorder=1)\n",
      "    ax1.set_ylabel('data PSD')\n",
      "    ax1.set_ylim(0,1)\n",
      "    ax1.plot([period[0], period[-1]], [sig1, sig1], ':', c='black')\n",
      "    ax1.plot([period[0], period[-1]], [sig5, sig5], ':', c='black')\n",
      "    ax2=fig.add_subplot(212)\n",
      "    ax2.plot(period, PSwindow, '-', c='black', lw=1, zorder=1)\n",
      "    ax2.set_ylabel('window PSD')\n",
      "    \n",
      "    \n",
      "    plt.show()\n",
      "    return pd.DataFrame({\"PS\":PS, \"omega\":omega, \"period\":period})"
     ],
     "language": "python",
     "metadata": {},
     "outputs": [],
     "prompt_number": "*"
    },
    {
     "cell_type": "code",
     "collapsed": false,
     "input": [
      "t=pdTable('160.27050.11')\n",
      "\n",
      "#as it turns out the exposure time in row 14 is 20 seconds instead of 150. lets drop that row\n",
      "t=t.drop(14)\n",
      "tPS=powerSpectra(t)"
     ],
     "language": "python",
     "metadata": {},
     "outputs": [],
     "prompt_number": "*"
    },
    {
     "cell_type": "code",
     "collapsed": false,
     "input": [
      "#lets look at the period of the 20 highest values in power \n",
      "tPS.sort(columns='PS', ascending=False)[0:20]"
     ],
     "language": "python",
     "metadata": {},
     "outputs": [],
     "prompt_number": "*"
    },
    {
     "cell_type": "code",
     "collapsed": false,
     "input": [
      "#the P= .9999/ w = 6.2 ones may be from the window function(?). The second signal is P ~1.408 days/ w ~ 4.4  \n",
      "#and the third is P ~3.415 days / w ~6.28\n",
      "#make some period folded light curves (am I doing this right?)\n",
      "\n",
      "plt.plot((t['Date'].values%(1.408714))/(1.408714), t['R'],'ro')\n",
      "plt.gca().invert_yaxis()\n",
      "plt.show()"
     ],
     "language": "python",
     "metadata": {},
     "outputs": [],
     "prompt_number": "*"
    },
    {
     "cell_type": "heading",
     "level": 2,
     "metadata": {},
     "source": [
      "Truncated Fourier Series"
     ]
    },
    {
     "cell_type": "markdown",
     "metadata": {},
     "source": [
      "Lomb Scargo is looking for strictly sinusoidal behavior. It lumped the two eclipse events on top of one another to get this sinusoidal signal. Upon inspection, you can see there is branching in the minima of the eclipse, with a seperation of about .2 magnitudes. In fact, the literature value of the period of v4641 sgr is twice the value we have here. You will notice in the peridodogram there is no signal for that value.\n",
      "\n",
      "The good news is we can refine our method to allow lomb scargo to use a linear combination of sinusoids so it can better match two different dips in the data. Lets add 5 terms. The method is almost identical to that of the Lomb Scargo method used above, now we simply allow for multiple sinusoids.\n",
      "\n"
     ]
    },
    {
     "cell_type": "code",
     "collapsed": false,
     "input": [
      "############################################################################################################################\n",
      "#input: pandas data frame including observation dates, calibrated V and R magnitudes and their instrumental errors\n",
      "#keyword: m, the number of terms to allow in multiver periodogram. default value is 5\n",
      "############################################################################################################################\n",
      "#action: compute the multiterm periodogram of the time series photometry of input                                          #\n",
      "#create plot of periodogram and display                                                                                    #\n",
      "#largely stolen from Jake's code in astroML                                                                                #\n",
      "#This function is almost identical to powerSpectra() above.\n",
      "############################################################################################################################\n",
      "#output: returns pandas data frame, containing linear sample of 100000 pts between 0 and 10, and power spectra of values   #\n",
      "############################################################################################################################\n",
      "def powerSpectraM(t, omega0, factor, m=5, width=.03):\n",
      "    #omega is the angular frequency of the period\n",
      "    omega = np.linspace(omega0 - width, omega0 + width, 1000)\n",
      "\t\n",
      "    #compute lobm-scargle ps\n",
      "    PS=multiterm_periodogram(t['Date'].values,t['R'].values,t['Rerr'].values, omega / factor ,m)\n",
      "    \n",
      "    \n",
      "    #create quick plot of power spectra\n",
      "    fig=plt.figure(figsize=(16,8))\n",
      "    ax1=fig.add_subplot(111)\n",
      "    ax1.plot(omega / factor, PS, '-', c='black', lw=1, zorder=1)\n",
      "    #ax1.plot([period[0], period[-1]], [sig1, sig1], ':', c='black')\n",
      "    #ax1.plot([period[0], period[-1]], [sig5, sig5], ':', c='black')\n",
      "    \n",
      "    plt.show()\n",
      "    return pd.DataFrame({\"PS\":PS, \"omega\":omega/ factor})"
     ],
     "language": "python",
     "metadata": {},
     "outputs": [],
     "prompt_number": "*"
    },
    {
     "cell_type": "markdown",
     "metadata": {},
     "source": [
      "Lets now create a perdiodogram of the data and use the truncated fourier method and search for signals around 1/2 the l-s period found and around the l-s period itself"
     ]
    },
    {
     "cell_type": "code",
     "collapsed": false,
     "input": [
      "tPSMhalf=powerSpectraM(t, 4.460, 2)"
     ],
     "language": "python",
     "metadata": {},
     "outputs": [],
     "prompt_number": "*"
    },
    {
     "cell_type": "code",
     "collapsed": false,
     "input": [
      "tPSMwhole=powerSpectraM(t, 4.460, 1)"
     ],
     "language": "python",
     "metadata": {},
     "outputs": [],
     "prompt_number": "*"
    },
    {
     "cell_type": "code",
     "collapsed": false,
     "input": [
      "tPSMwhole.max(column='PS')"
     ],
     "language": "python",
     "metadata": {},
     "outputs": [],
     "prompt_number": "*"
    },
    {
     "cell_type": "code",
     "collapsed": false,
     "input": [
      "tPSMhalf.max(column='PS')"
     ],
     "language": "python",
     "metadata": {},
     "outputs": [],
     "prompt_number": "*"
    },
    {
     "cell_type": "markdown",
     "metadata": {},
     "source": [
      "The period found by l-s (P = 1.408 days, omega = 4.4) is actually slightly prefered to 1/2 the period (P = 2.816 days, omega = 2.2, the literature values). As it stands, we still don't have the literature value for the period of this system. lets try to remove some of the jittery points by hand, to clean up the light curve"
     ]
    },
    {
     "cell_type": "code",
     "collapsed": false,
     "input": [
      "tPassive=t[t['R']>13.38]"
     ],
     "language": "python",
     "metadata": {},
     "outputs": [],
     "prompt_number": "*"
    },
    {
     "cell_type": "code",
     "collapsed": false,
     "input": [
      "tPSMhalf=powerSpectraM(tPassive, 4.460, 2)"
     ],
     "language": "python",
     "metadata": {},
     "outputs": [],
     "prompt_number": "*"
    },
    {
     "cell_type": "code",
     "collapsed": false,
     "input": [
      "tPSMwhole=powerSpectraM(tPassive, 4.460, 1)"
     ],
     "language": "python",
     "metadata": {},
     "outputs": [],
     "prompt_number": "*"
    },
    {
     "cell_type": "code",
     "collapsed": false,
     "input": [
      "tPSMwhole.max(column='PS')"
     ],
     "language": "python",
     "metadata": {},
     "outputs": [],
     "prompt_number": "*"
    },
    {
     "cell_type": "code",
     "collapsed": false,
     "input": [
      "tPSMhalf.max(column='PS')"
     ],
     "language": "python",
     "metadata": {},
     "outputs": [],
     "prompt_number": "*"
    },
    {
     "cell_type": "code",
     "collapsed": false,
     "input": [
      "plt.plot((tPassive['Date'].values%(2*1.408714))/(2*1.408714), tPassive['R'],'ro')\n",
      "plt.gca().invert_yaxis()\n",
      "plt.show()"
     ],
     "language": "python",
     "metadata": {},
     "outputs": [],
     "prompt_number": "*"
    },
    {
     "cell_type": "heading",
     "level": 2,
     "metadata": {},
     "source": [
      "String Length"
     ]
    },
    {
     "cell_type": "code",
     "collapsed": false,
     "input": [
      "t"
     ],
     "language": "python",
     "metadata": {},
     "outputs": [],
     "prompt_number": "*"
    },
    {
     "cell_type": "code",
     "collapsed": false,
     "input": [],
     "language": "python",
     "metadata": {},
     "outputs": [],
     "prompt_number": "*"
    }
   ],
   "metadata": {}
  }
 ]
}